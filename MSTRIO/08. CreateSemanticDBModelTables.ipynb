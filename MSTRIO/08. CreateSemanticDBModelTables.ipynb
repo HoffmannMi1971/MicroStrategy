{
 "cells": [
  {
   "attachments": {},
   "cell_type": "markdown",
   "metadata": {},
   "source": [
    "Import Objects Scanned Data"
   ]
  },
  {
   "cell_type": "code",
   "execution_count": 1,
   "metadata": {},
   "outputs": [],
   "source": [
    "import pandas as pd\n",
    "CSV_Folder_Path = 'C:/Micha/MSTR/MicroStrategyPython/DataExport/'\n",
    "df_Objects_Scanned = pd.read_csv(CSV_Folder_Path + 'mstr_objects_scanned.csv', sep=';')\n",
    "df_Objects_Scanned.drop('Unnamed: 0', axis=1, inplace=True)\n",
    "df_Metrics_to_Metrics_Relations = df_Objects_Scanned[(df_Objects_Scanned['Source Object Type']=='Metric') & (df_Objects_Scanned['Dependent Object Type']=='Metric')]\n",
    "df_Master_Metrics_Relations = df_Objects_Scanned[(df_Objects_Scanned['Source Object Type']=='Metric') & (df_Objects_Scanned['Dependent Object Type']!='Metric') &\n",
    "                                                 (df_Objects_Scanned['Dependent Object Type']!='n.a.')]\n"
   ]
  },
  {
   "attachments": {},
   "cell_type": "markdown",
   "metadata": {},
   "source": [
    "Create one single Lookup Reference Dataframe for all Objects"
   ]
  },
  {
   "cell_type": "code",
   "execution_count": 2,
   "metadata": {},
   "outputs": [],
   "source": [
    "df_Lookup_Source_Objects = df_Objects_Scanned[['Source Object Type', 'Source Object Name', 'Source Object ID']].drop_duplicates()\n",
    "df_Lookup_Source_Objects = df_Lookup_Source_Objects.rename(columns={'Source Object Type': 'Object Type', 'Source Object Name': 'Object Name', 'Source Object ID': 'Object ID'})\n",
    "\n",
    "df_Lookup_Dependent_Objects = df_Objects_Scanned[['Dependent Object Type', 'Dependent Object Name', 'Dependent Object ID']].drop_duplicates()\n",
    "df_Lookup_Dependent_Objects = df_Lookup_Dependent_Objects.rename(columns={'Dependent Object Type': 'Object Type', 'Dependent Object Name': 'Object Name', 'Dependent Object ID': 'Object ID'})\n",
    "\n",
    "#Unions both tables into one singe table, drop duplicates and update Dataframe Index\n",
    "df_Lookup_Master = pd.concat([df_Lookup_Source_Objects, df_Lookup_Dependent_Objects]).drop_duplicates()\n",
    "df_Lookup_Master = df_Lookup_Master.reset_index(drop=True)"
   ]
  },
  {
   "attachments": {},
   "cell_type": "markdown",
   "metadata": {},
   "source": [
    "Create Lookup Tables of Object Types"
   ]
  },
  {
   "cell_type": "code",
   "execution_count": 3,
   "metadata": {},
   "outputs": [],
   "source": [
    "df_LU_Table = df_Lookup_Master[(df_Lookup_Master['Object Type']=='Table')].reset_index(drop=True)\n",
    "df_LU_FACT = df_Lookup_Master[(df_Lookup_Master['Object Type']=='Fact')].reset_index(drop=True)\n",
    "df_LU_Attribute = df_Lookup_Master[(df_Lookup_Master['Object Type']=='Attribute')].reset_index(drop=True)\n",
    "df_LU_Metric = df_Lookup_Master[(df_Lookup_Master['Object Type']=='Metric')].reset_index(drop=True)\n",
    "df_LU_Report = df_Lookup_Master[(df_Lookup_Master['Object Type']=='Report')].reset_index(drop=True)\n",
    "df_LU_Bulk_Report = df_Lookup_Master[(df_Lookup_Master['Object Type']=='Bulk-Report')].reset_index(drop=True)\n",
    "df_LU_OLAP_Cube = df_Lookup_Master[(df_Lookup_Master['Object Type']=='OLAP-Cube')].reset_index(drop=True)\n",
    "df_LU_Document_Dossier = df_Lookup_Master[(df_Lookup_Master['Object Type']=='Document/Dossier')].reset_index(drop=True)\n",
    "df_LU_Object_Type = df_Lookup_Master[['Object Type']].drop_duplicates().reset_index(drop=True)"
   ]
  },
  {
   "attachments": {},
   "cell_type": "markdown",
   "metadata": {},
   "source": [
    "Create NxM Relation Tables for Object Relations"
   ]
  },
  {
   "cell_type": "code",
   "execution_count": 4,
   "metadata": {},
   "outputs": [],
   "source": [
    "df_NxM_Table_Fact = df_Objects_Scanned[(df_Objects_Scanned['Source Object Type']=='Table') & (df_Objects_Scanned['Dependent Object Type']=='Fact')]\n",
    "df_NxM_Table_Attribute = df_Objects_Scanned[(df_Objects_Scanned['Source Object Type']=='Table') & (df_Objects_Scanned['Dependent Object Type']=='Attribute')]\n",
    "\n",
    "df_NxM_Fact_Metric = df_Objects_Scanned[(df_Objects_Scanned['Source Object Type']=='Fact') & (df_Objects_Scanned['Dependent Object Type']=='Metric')]\n",
    "\n",
    "df_NxM_Attribute_Metric = df_Objects_Scanned[(df_Objects_Scanned['Source Object Type']=='Attribute') & (df_Objects_Scanned['Dependent Object Type']=='Metric')]\n",
    "df_NxM_Attribute_Report = df_Objects_Scanned[(df_Objects_Scanned['Source Object Type']=='Attribute') & (df_Objects_Scanned['Dependent Object Type']=='Report')]\n",
    "df_NxM_Attribute_Document_Dossier = df_Objects_Scanned[(df_Objects_Scanned['Source Object Type']=='Attribute') & (df_Objects_Scanned['Dependent Object Type']=='Document/Dossier')]\n",
    "df_NxM_Attribute_OLAP_Cube = df_Objects_Scanned[(df_Objects_Scanned['Source Object Type']=='Attribute') & (df_Objects_Scanned['Dependent Object Type']=='OLAP-Cube')]\n",
    "df_NxM_Attribute_BULK_Report = df_Objects_Scanned[(df_Objects_Scanned['Source Object Type']=='Attribute') & (df_Objects_Scanned['Dependent Object Type']=='Bulk-Report')]\n",
    "\n",
    "df_NxM_Metric_Report = df_Objects_Scanned[(df_Objects_Scanned['Source Object Type']=='Metric') & (df_Objects_Scanned['Dependent Object Type']=='Report')]\n",
    "df_NxM_Metric_Document_Dossier = df_Objects_Scanned[(df_Objects_Scanned['Source Object Type']=='Metric') & (df_Objects_Scanned['Dependent Object Type']=='Document/Dossier')]\n",
    "df_NxM_Metric_OLAP_Cube = df_Objects_Scanned[(df_Objects_Scanned['Source Object Type']=='Metric') & (df_Objects_Scanned['Dependent Object Type']=='OLAP-Cube')]\n",
    "df_NxM_Metric_BULK_Report = df_Objects_Scanned[(df_Objects_Scanned['Source Object Type']=='Metric') & (df_Objects_Scanned['Dependent Object Type']=='Bulk-Report')]"
   ]
  },
  {
   "attachments": {},
   "cell_type": "markdown",
   "metadata": {},
   "source": [
    "Resolve Metric to Metric Relations"
   ]
  },
  {
   "cell_type": "code",
   "execution_count": 5,
   "metadata": {},
   "outputs": [],
   "source": [
    "#Recursice Function Start\n",
    "#########################\n",
    "def FlattenMetricToMetricsDependencies(Parent_Metric_ID, Saved_Application_Object_Type, Saved_Application_Object_Name, Saved_Application_Object_ID):\n",
    "    df_Child_Metrics_Relations = df_Metrics_to_Metrics_Relations[(df_Metrics_to_Metrics_Relations['Dependent Object ID'] == Parent_Metric_ID)]\n",
    "    rows_total_child_metrics_relations = df_Child_Metrics_Relations.shape[0]\n",
    "    rows_current_child_metric = 0\n",
    "    global df_NxM_Metric_Report\n",
    "    global df_NxM_Metric_Document_Dossier\n",
    "    global df_NxM_Metric_OLAP_Cube\n",
    "    global df_NxM_Metric_BULK_Report\n",
    "\n",
    "    while rows_current_child_metric < rows_total_child_metrics_relations:\n",
    "        df_Child_Metrics_Relations_Row = df_Child_Metrics_Relations.iloc[rows_current_child_metric:rows_current_child_metric + 1]\n",
    "\n",
    "        Child_Metric_Type = df_Child_Metrics_Relations_Row.iloc[0]['Source Object Type']    \n",
    "        Child_Metric_Name = df_Child_Metrics_Relations_Row.iloc[0]['Source Object Name']    \n",
    "        Child_Metric_ID = df_Child_Metrics_Relations_Row.iloc[0]['Source Object ID']    \n",
    "\n",
    "        dict_New_Metric_Relation_Row = {\n",
    "                                        \"Source Object Type\": Child_Metric_Type,\n",
    "                                        \"Source Object Name\": Child_Metric_Name,\n",
    "                                        \"Source Object ID\": Child_Metric_ID,\n",
    "                                        \"Dependent Object Type\": Saved_Application_Object_Type,\n",
    "                                        \"Dependent Object Name\": Saved_Application_Object_Name,\n",
    "                                        \"Dependent Object ID\": Saved_Application_Object_ID\n",
    "                                       }\n",
    "\n",
    "        if Saved_Application_Object_Type == 'Report':\n",
    "            df_NxM_Metric_Report = pd.concat([df_NxM_Metric_Report, pd.DataFrame([dict_New_Metric_Relation_Row])])\n",
    "        elif Saved_Application_Object_Type == 'Document/Dossier':\n",
    "            df_NxM_Metric_Document_Dossier = pd.concat([df_NxM_Metric_Document_Dossier, pd.DataFrame([dict_New_Metric_Relation_Row])])\n",
    "        elif Saved_Application_Object_Type == 'OLAP-Cube':\n",
    "            df_NxM_Metric_OLAP_Cube = pd.concat([df_NxM_Metric_OLAP_Cube, pd.DataFrame([dict_New_Metric_Relation_Row])])\n",
    "        elif Saved_Application_Object_Type == 'Bulk-Report':\n",
    "            df_NxM_Metric_BULK_Report = pd.concat([df_NxM_Metric_BULK_Report, pd.DataFrame([dict_New_Metric_Relation_Row])])\n",
    "\n",
    "        rows_current_child_metric = rows_current_child_metric + 1\n",
    "        FlattenMetricToMetricsDependencies(Child_Metric_ID, Saved_Application_Object_Type, Saved_Application_Object_Name, Saved_Application_Object_ID)\n",
    "    \n",
    "#Recursice Function End\n",
    "#######################\n",
    "    \n",
    "rows_total_master_metrics_relations = df_Master_Metrics_Relations.shape[0]\n",
    "rows_current_master_metric = 0\n",
    "\n",
    "#Metric Master Rows\n",
    "while rows_current_master_metric < rows_total_master_metrics_relations:\n",
    "    df_Master_Metrics_Relations_Row = df_Master_Metrics_Relations.iloc[rows_current_master_metric:rows_current_master_metric + 1]\n",
    "    \n",
    "    Parent_Metric_ID = df_Master_Metrics_Relations_Row.iloc[0]['Source Object ID']    \n",
    "    Saved_Application_Object_Type = df_Master_Metrics_Relations_Row.iloc[0]['Dependent Object Type']    \n",
    "    Saved_Application_Object_Name = df_Master_Metrics_Relations_Row.iloc[0]['Dependent Object Name']    \n",
    "    Saved_Application_Object_ID = df_Master_Metrics_Relations_Row.iloc[0]['Dependent Object ID']    \n",
    "    \n",
    "    FlattenMetricToMetricsDependencies(Parent_Metric_ID, Saved_Application_Object_Type, Saved_Application_Object_Name, Saved_Application_Object_ID)\n",
    "\n",
    "    rows_current_master_metric = rows_current_master_metric + 1"
   ]
  },
  {
   "attachments": {},
   "cell_type": "markdown",
   "metadata": {},
   "source": [
    "Drop Duplicates if there are any and reset Index of Dataframe"
   ]
  },
  {
   "cell_type": "code",
   "execution_count": 6,
   "metadata": {},
   "outputs": [],
   "source": [
    "df_NxM_Table_Fact = df_NxM_Table_Fact.drop_duplicates().reset_index(drop=True)\n",
    "df_NxM_Table_Attribute = df_NxM_Table_Attribute.drop_duplicates().reset_index(drop=True)\n",
    "\n",
    "df_NxM_Fact_Metric = df_NxM_Fact_Metric.drop_duplicates().reset_index(drop=True)\n",
    "\n",
    "df_NxM_Attribute_Metric = df_NxM_Attribute_Metric.drop_duplicates().reset_index(drop=True)\n",
    "df_NxM_Attribute_Report = df_NxM_Attribute_Report.drop_duplicates().reset_index(drop=True)\n",
    "df_NxM_Attribute_Document_Dossier = df_NxM_Attribute_Document_Dossier.drop_duplicates().reset_index(drop=True)\n",
    "df_NxM_Attribute_OLAP_Cube = df_NxM_Attribute_OLAP_Cube.drop_duplicates().reset_index(drop=True)\n",
    "df_NxM_Attribute_BULK_Report = df_NxM_Attribute_BULK_Report.drop_duplicates().reset_index(drop=True)\n",
    "\n",
    "df_NxM_Metric_Report = df_NxM_Metric_Report.drop_duplicates().reset_index(drop=True)\n",
    "df_NxM_Metric_Document_Dossier = df_NxM_Metric_Document_Dossier.drop_duplicates().reset_index(drop=True)\n",
    "df_NxM_Metric_OLAP_Cube = df_NxM_Metric_OLAP_Cube.drop_duplicates().reset_index(drop=True)\n",
    "df_NxM_Metric_BULK_Report = df_NxM_Metric_BULK_Report.drop_duplicates().reset_index(drop=True)"
   ]
  },
  {
   "attachments": {},
   "cell_type": "markdown",
   "metadata": {},
   "source": [
    "Create Data Files"
   ]
  },
  {
   "cell_type": "code",
   "execution_count": 7,
   "metadata": {},
   "outputs": [],
   "source": [
    "# Lookup Tables\n",
    "###############\n",
    "df_LU_Table = df_LU_Table.rename(columns={'Object Type': 'object_type', 'Object Name': 'table_name', 'Object ID': 'table_id'})\n",
    "df_LU_Table.to_csv(CSV_Folder_Path + 'lu_table.csv', sep=';', index=False)\n",
    "\n",
    "df_LU_FACT = df_LU_FACT.rename(columns={'Object Type': 'object_type', 'Object Name': 'fact_name', 'Object ID': 'fact_id'})\n",
    "df_LU_FACT.to_csv(CSV_Folder_Path + 'lu_fact.csv', sep=';', index=False)\n",
    "\n",
    "df_LU_Attribute = df_LU_Attribute.rename(columns={'Object Type': 'object_type', 'Object Name': 'attribute_name', 'Object ID': 'attribute_id'})\n",
    "df_LU_Attribute.to_csv(CSV_Folder_Path + 'lu_attribute.csv', sep=';', index=False)\n",
    "\n",
    "df_LU_Metric = df_LU_Metric.rename(columns={'Object Type': 'object_type', 'Object Name': 'metric_name', 'Object ID': 'metric_id'})\n",
    "df_LU_Metric.to_csv(CSV_Folder_Path + 'lu_metric.csv', sep=';', index=False)\n",
    "\n",
    "df_LU_Report = df_LU_Report.rename(columns={'Object Type': 'object_type', 'Object Name': 'report_name', 'Object ID': 'report_id'})\n",
    "df_LU_Report.to_csv(CSV_Folder_Path + 'lu_report.csv', sep=';', index=False)\n",
    "\n",
    "df_LU_Bulk_Report = df_LU_Bulk_Report.rename(columns={'Object Type': 'object_type', 'Object Name': 'bulk_report_name', 'Object ID': 'bulk_report_id'})\n",
    "df_LU_Bulk_Report.to_csv(CSV_Folder_Path + 'lu_bulk_report.csv', sep=';', index=False)\n",
    "\n",
    "df_LU_OLAP_Cube = df_LU_OLAP_Cube.rename(columns={'Object Type': 'object_type', 'Object Name': 'olap_cube_name', 'Object ID': 'olap_cube_id'})\n",
    "df_LU_OLAP_Cube.to_csv(CSV_Folder_Path + 'lu_olap_cube.csv', sep=';', index=False)\n",
    "\n",
    "df_LU_Document_Dossier = df_LU_Document_Dossier.rename(columns={'Object Type': 'object_type', 'Object Name': 'document_dossier_name', 'Object ID': 'document_dossier_id'})\n",
    "df_LU_Document_Dossier.to_csv(CSV_Folder_Path + 'lu_document_dossier.csv', sep=';', index=False)\n",
    "\n",
    "df_LU_Object_Type = df_LU_Object_Type.rename(columns={'Object Type': 'object_type'})\n",
    "df_LU_Object_Type.to_csv(CSV_Folder_Path + 'lu_object_type.csv', sep=';', index=False)\n",
    "\n",
    "\n",
    "#Relation Tables\n",
    "################\n",
    "df_NxM_Table_Fact = df_NxM_Table_Fact.rename(columns={'Source Object Type': 'source_object_type', 'Source Object Name': 'table_name', 'Source Object ID': 'table_id', \n",
    "                                                                                'Dependent Object Type': 'dependent_object_type', 'Dependent Object Name': 'fact_name', 'Dependent Object ID': 'fact_id'})\n",
    "df_NxM_Table_Fact.to_csv(CSV_Folder_Path + 'nxm_table_fact.csv', sep=';', index=False)\n",
    "\n",
    "\n",
    "df_NxM_Table_Attribute = df_NxM_Table_Attribute.rename(columns={'Source Object Type': 'source_object_type', 'Source Object Name': 'table_name', 'Source Object ID': 'table_id', \n",
    "                                                                                'Dependent Object Type': 'dependent_object_type', 'Dependent Object Name': 'attribute_name', 'Dependent Object ID': 'attribute_id'})\n",
    "df_NxM_Table_Attribute.to_csv(CSV_Folder_Path + 'nxm_table_attribute.csv', sep=';', index=False)\n",
    "\n",
    "\n",
    "df_NxM_Fact_Metric = df_NxM_Fact_Metric.rename(columns={'Source Object Type': 'source_object_type', 'Source Object Name': 'fact_name', 'Source Object ID': 'fact_id', \n",
    "                                                                                'Dependent Object Type': 'dependent_object_type', 'Dependent Object Name': 'metric_name', 'Dependent Object ID': 'metric_id'})\n",
    "df_NxM_Fact_Metric.to_csv(CSV_Folder_Path + 'nxm_fact_metric.csv', sep=';', index=False)\n",
    "\n",
    "\n",
    "df_NxM_Attribute_Metric = df_NxM_Attribute_Metric.rename(columns={'Source Object Type': 'source_object_type', 'Source Object Name': 'attribute_name', 'Source Object ID': 'attribute_id', \n",
    "                                                                                'Dependent Object Type': 'dependent_object_type', 'Dependent Object Name': 'metric_name', 'Dependent Object ID': 'metric_id'})\n",
    "df_NxM_Attribute_Metric.to_csv(CSV_Folder_Path + 'nxm_attribute_metric.csv', sep=';', index=False)\n",
    "\n",
    "\n",
    "df_NxM_Attribute_Report = df_NxM_Attribute_Report.rename(columns={'Source Object Type': 'source_object_type', 'Source Object Name': 'attribute_name', 'Source Object ID': 'attribute_id', \n",
    "                                                                                'Dependent Object Type': 'dependent_object_type', 'Dependent Object Name': 'report_name', 'Dependent Object ID': 'report_id'})\n",
    "df_NxM_Attribute_Report.to_csv(CSV_Folder_Path + 'nxm_attribute_report.csv', sep=';', index=False)\n",
    "\n",
    "\n",
    "df_NxM_Attribute_Document_Dossier = df_NxM_Attribute_Document_Dossier.rename(columns={'Source Object Type': 'source_object_type', 'Source Object Name': 'attribute_name', 'Source Object ID': 'attribute_id', \n",
    "                                                                                'Dependent Object Type': 'dependent_object_type', 'Dependent Object Name': 'document_dossier_name', 'Dependent Object ID': 'document_dossier_id'})\n",
    "df_NxM_Attribute_Document_Dossier.to_csv(CSV_Folder_Path + 'nxm_attribute_document_dossier.csv', sep=';', index=False)\n",
    "\n",
    "\n",
    "df_NxM_Attribute_OLAP_Cube = df_NxM_Attribute_OLAP_Cube.rename(columns={'Source Object Type': 'source_object_type', 'Source Object Name': 'attribute_name', 'Source Object ID': 'attribute_id', \n",
    "                                                                                'Dependent Object Type': 'dependent_object_type', 'Dependent Object Name': 'olap_cube_name', 'Dependent Object ID': 'olap_cube_id'})\n",
    "df_NxM_Attribute_OLAP_Cube.to_csv(CSV_Folder_Path + 'nxm_attribute_olap_cube.csv', sep=';', index=False)\n",
    "\n",
    "\n",
    "df_NxM_Attribute_BULK_Report = df_NxM_Attribute_BULK_Report.rename(columns={'Source Object Type': 'source_object_type', 'Source Object Name': 'attribute_name', 'Source Object ID': 'attribute_id', \n",
    "                                                                                'Dependent Object Type': 'dependent_object_type', 'Dependent Object Name': 'bulk_report_name', 'Dependent Object ID': 'bulk_report_id'})\n",
    "df_NxM_Attribute_BULK_Report.to_csv(CSV_Folder_Path + 'nxm_attribute_bulk_report.csv', sep=';', index=False)\n",
    "\n",
    "\n",
    "df_NxM_Metric_Report = df_NxM_Metric_Report.rename(columns={'Source Object Type': 'source_object_type', 'Source Object Name': 'metric_name', 'Source Object ID': 'metric_id', \n",
    "                                                                                'Dependent Object Type': 'dependent_object_type', 'Dependent Object Name': 'report_name', 'Dependent Object ID': 'report_id'})\n",
    "df_NxM_Metric_Report.to_csv(CSV_Folder_Path + 'nxm_metric_report.csv', sep=';', index=False)\n",
    "\n",
    "\n",
    "df_NxM_Metric_Document_Dossier = df_NxM_Metric_Document_Dossier.rename(columns={'Source Object Type': 'source_object_type', 'Source Object Name': 'metric_name', 'Source Object ID': 'metric_id', \n",
    "                                                                                'Dependent Object Type': 'dependent_object_type', 'Dependent Object Name': 'document_dossier_name', 'Dependent Object ID': 'document_dossier_id'})\n",
    "df_NxM_Metric_Document_Dossier.to_csv(CSV_Folder_Path + 'nxm_metric_document_dossier.csv', sep=';', index=False)\n",
    "\n",
    "\n",
    "df_NxM_Metric_OLAP_Cube = df_NxM_Metric_OLAP_Cube.rename(columns={'Source Object Type': 'source_object_type', 'Source Object Name': 'metric_name', 'Source Object ID': 'metric_id', \n",
    "                                                                                'Dependent Object Type': 'dependent_object_type', 'Dependent Object Name': 'olap_cube_name', 'Dependent Object ID': 'olap_cube_id'})\n",
    "df_NxM_Metric_OLAP_Cube.to_csv(CSV_Folder_Path + 'nxm_metric_olap_cube.csv', sep=';', index=False)\n",
    "\n",
    "\n",
    "df_NxM_Metric_BULK_Report = df_NxM_Metric_BULK_Report.rename(columns={'Source Object Type': 'source_object_type', 'Source Object Name': 'metric_name', 'Source Object ID': 'metric_id', \n",
    "                                                                                'Dependent Object Type': 'dependent_object_type', 'Dependent Object Name': 'bulk_report_name', 'Dependent Object ID': 'bulk_report_id'})\n",
    "df_NxM_Metric_BULK_Report.to_csv(CSV_Folder_Path + 'nxm_metric_bulk_report.csv', sep=';', index=False)"
   ]
  }
 ],
 "metadata": {
  "kernelspec": {
   "display_name": "Python 3",
   "language": "python",
   "name": "python3"
  },
  "language_info": {
   "codemirror_mode": {
    "name": "ipython",
    "version": 3
   },
   "file_extension": ".py",
   "mimetype": "text/x-python",
   "name": "python",
   "nbconvert_exporter": "python",
   "pygments_lexer": "ipython3",
   "version": "3.10.9"
  },
  "orig_nbformat": 4,
  "vscode": {
   "interpreter": {
    "hash": "26de051ba29f2982a8de78e945f0abaf191376122a1563185a90213a26c5da77"
   }
  }
 },
 "nbformat": 4,
 "nbformat_minor": 2
}
