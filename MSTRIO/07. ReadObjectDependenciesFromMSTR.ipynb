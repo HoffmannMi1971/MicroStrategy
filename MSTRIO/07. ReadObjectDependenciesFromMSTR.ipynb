{
 "cells": [
  {
   "cell_type": "code",
   "execution_count": null,
   "metadata": {},
   "outputs": [],
   "source": [
    "from MicroStrategyConnection import *\n",
    "import pandas as pd\n",
    "from mstrio.object_management import full_search\n",
    "from mstrio.project_objects import Dossier\n",
    "from mstrio.types import ObjectSubTypes, ObjectTypes\n",
    "\n",
    "list_source_object_name = []\n",
    "list_source_object_type = []\n",
    "list_source_object_id = []\n",
    "list_dependent_object_name = []\n",
    "list_dependent_object_type = []\n",
    "list_dependent_object_id = []\n",
    "\n",
    "mstr_conn = GetMicroStrategyConnection()"
   ]
  },
  {
   "attachments": {},
   "cell_type": "markdown",
   "metadata": {},
   "source": [
    "TESTS"
   ]
  },
  {
   "cell_type": "code",
   "execution_count": null,
   "metadata": {},
   "outputs": [],
   "source": [
    "#metric_objects = full_search(mstr_conn, project=mstr_project_id, object_types=[ObjectTypes.METRIC])\n",
    "#search_id = '5E2B3D8611D66F4BC0006CBEB630224F'\n",
    "#found_objects_from_id = full_search(mstr_conn, project=mstr_project_id, uses_object_id=search_id, uses_object_type=ObjectTypes.METRIC)"
   ]
  },
  {
   "attachments": {},
   "cell_type": "markdown",
   "metadata": {},
   "source": [
    "Read Table Objects"
   ]
  },
  {
   "cell_type": "code",
   "execution_count": null,
   "metadata": {},
   "outputs": [],
   "source": [
    "table_objects = full_search(mstr_conn, project=mstr_project_id, object_types=[ObjectTypes.TABLE])\n",
    "counter = 0\n",
    "number_of_objects = len(table_objects)\n",
    "found_object_type = ''\n",
    "\n",
    "for table_object in table_objects:\n",
    "    counter = counter + 1\n",
    "    print('Table ' + str(counter) + ' from ' + str(number_of_objects))\n",
    "\n",
    "    if table_object['subtype']== 3840: #Real Tables, no Partition Tables\n",
    "        found_objects = full_search(mstr_conn, project=mstr_project_id, uses_object_id=table_object['id'], uses_object_type=ObjectTypes.TABLE,\n",
    "                                    object_types=[ObjectTypes.FACT, ObjectTypes.ATTRIBUTE])\n",
    "\n",
    "        if len(found_objects) > 0:\n",
    "            for found_object in found_objects:\n",
    "                if (found_object['type']==13): #Fact\n",
    "                    found_object_type = 'Fact'\n",
    "                elif (found_object['type']==12 and found_object['subtype']== 3072): #Real Attribute              \n",
    "                    found_object_type = 'Attribute'\n",
    "\n",
    "                if found_object_type != '':\n",
    "                    list_source_object_type.append('Table')\n",
    "                    list_source_object_name.append(table_object['name'])\n",
    "                    list_source_object_id.append(table_object['id'])\n",
    "                    list_dependent_object_type.append(found_object_type)\n",
    "                    list_dependent_object_name.append(found_object['name'])\n",
    "                    list_dependent_object_id.append(found_object['id'])\n",
    "                    found_object_type = ''\n",
    "\n",
    "        else:    \n",
    "            list_source_object_type.append('Table')\n",
    "            list_source_object_name.append(table_object['name'])\n",
    "            list_source_object_id.append(table_object['id'])\n",
    "            list_dependent_object_name.append('n.a.')\n",
    "            list_dependent_object_type.append('n.a.')\n",
    "            list_dependent_object_id.append('n.a.')\n",
    "\n",
    "print('All Tables read in')             "
   ]
  },
  {
   "attachments": {},
   "cell_type": "markdown",
   "metadata": {},
   "source": [
    "Read FACT Objects"
   ]
  },
  {
   "cell_type": "code",
   "execution_count": null,
   "metadata": {},
   "outputs": [],
   "source": [
    "fact_objects = full_search(mstr_conn, project=mstr_project_id, object_types=[ObjectTypes.FACT])\n",
    "counter = 0\n",
    "number_of_objects = len(fact_objects)\n",
    "\n",
    "for fact_object in fact_objects:\n",
    "    counter = counter + 1\n",
    "    print('Fact ' + str(counter) + ' from ' + str(number_of_objects))\n",
    "\n",
    "    metric_objects = full_search(mstr_conn, project=mstr_project_id, uses_object_id=fact_object['id'], uses_object_type=ObjectTypes.FACT, object_types=[ObjectTypes.METRIC])\n",
    "\n",
    "    if len(metric_objects) > 0:\n",
    "        for found_object in metric_objects:\n",
    "            if (found_object['type']==4 and found_object['subtype']== 1024): #Real Metric              \n",
    "                list_source_object_type.append('Fact')\n",
    "                list_source_object_name.append(fact_object['name'])\n",
    "                list_source_object_id.append(fact_object['id'])\n",
    "                list_dependent_object_type.append('Metric')\n",
    "                list_dependent_object_name.append(found_object['name'])\n",
    "                list_dependent_object_id.append(found_object['id'])\n",
    "    else:    \n",
    "        list_source_object_type.append('Fact')\n",
    "        list_source_object_name.append(fact_object['name'])\n",
    "        list_source_object_id.append(fact_object['id'])\n",
    "        list_dependent_object_name.append('n.a.')\n",
    "        list_dependent_object_type.append('n.a.')\n",
    "        list_dependent_object_id.append('n.a.')\n",
    "\n",
    "print('All Facts read in')"
   ]
  },
  {
   "attachments": {},
   "cell_type": "markdown",
   "metadata": {},
   "source": [
    "Read METRIC Objects"
   ]
  },
  {
   "cell_type": "code",
   "execution_count": null,
   "metadata": {},
   "outputs": [],
   "source": [
    "metric_objects = full_search(mstr_conn, project=mstr_project_id, object_types=[ObjectTypes.METRIC])\n",
    "counter = 0\n",
    "number_of_objects = len(metric_objects)\n",
    "found_object_type = ''\n",
    "\n",
    "for metric_object in metric_objects:\n",
    "    counter = counter + 1\n",
    "    print('Metric ' + str(counter) + ' from ' + str(number_of_objects))\n",
    "\n",
    "    if metric_object['subtype']== 1024: #Only Standard Metrics\n",
    "        found_objects = full_search(mstr_conn, project=mstr_project_id, uses_object_id=metric_object['id'], uses_object_type=ObjectTypes.METRIC,\n",
    "                                    object_types=[ObjectTypes.REPORT_DEFINITION, ObjectTypes.DOCUMENT_DEFINITION, ObjectTypes.METRIC, ObjectTypes.ATTRIBUTE])\n",
    "        \n",
    "        if len(found_objects) > 0:\n",
    "            for found_object in found_objects:\n",
    "                if (found_object['type']==3 and found_object['subtype']== 768): #Report-Grid\n",
    "                    found_object_type = 'Report'\n",
    "                elif (found_object['type']==3 and found_object['subtype']== 769): #Report-Graph                \n",
    "                    found_object_type = 'Report'\n",
    "                elif (found_object['type']==3 and found_object['subtype']== 774): #Report Grid-Graph                \n",
    "                    found_object_type = 'Report'\n",
    "                elif (found_object['type']==3 and found_object['subtype']== 775): #Bulk-Report                \n",
    "                    found_object_type = 'Bulk-Report'\n",
    "                elif (found_object['type']==3 and found_object['subtype']== 776): #OLAP-Cube               \n",
    "                    found_object_type = 'OLAP-Cube'\n",
    "                elif (found_object['type']==4 and found_object['subtype']== 1024): #Real Metric              \n",
    "                    found_object_type = 'Metric'\n",
    "                elif (found_object['type']==55 and found_object['subtype']== 14081): #Document/Dossier              \n",
    "                    found_object_type = 'Document/Dossier'\n",
    "                elif (found_object['type']==12 and found_object['subtype']== 3072): #Real Attribute              \n",
    "                    found_object_type = 'Attribute'\n",
    "\n",
    "                if found_object_type != '':\n",
    "                    list_source_object_type.append('Metric')\n",
    "                    list_source_object_name.append(metric_object['name'])\n",
    "                    list_source_object_id.append(metric_object['id'])\n",
    "                    list_dependent_object_type.append(found_object_type)\n",
    "                    list_dependent_object_name.append(found_object['name'])\n",
    "                    list_dependent_object_id.append(found_object['id'])\n",
    "                    found_object_type = ''\n",
    "\n",
    "        else:    \n",
    "            list_source_object_type.append('Metric')\n",
    "            list_source_object_name.append(metric_object['name'])\n",
    "            list_source_object_id.append(metric_object['id'])\n",
    "            list_dependent_object_name.append('n.a.')\n",
    "            list_dependent_object_type.append('n.a.')\n",
    "            list_dependent_object_id.append('n.a.')\n",
    "\n",
    "print('All Metrics read in')             "
   ]
  },
  {
   "attachments": {},
   "cell_type": "markdown",
   "metadata": {},
   "source": [
    "Read ATTRIBUTE Objects"
   ]
  },
  {
   "cell_type": "code",
   "execution_count": null,
   "metadata": {},
   "outputs": [],
   "source": [
    "attribute_objects = full_search(mstr_conn, project=mstr_project_id, object_types=[ObjectTypes.ATTRIBUTE])\n",
    "counter = 0\n",
    "number_of_objects = len(attribute_objects)\n",
    "found_object_type = ''\n",
    "\n",
    "for attribute_object in attribute_objects:\n",
    "    counter = counter + 1\n",
    "    print('Attribute ' + str(counter) + ' from ' + str(number_of_objects))\n",
    "\n",
    "    if attribute_object['subtype']== 3072: #Only Standard Attributes\n",
    "        found_objects = full_search(mstr_conn, project=mstr_project_id, uses_object_id=attribute_object['id'], uses_object_type=ObjectTypes.ATTRIBUTE,\n",
    "                                    object_types=[ObjectTypes.REPORT_DEFINITION, ObjectTypes.DOCUMENT_DEFINITION, ObjectTypes.METRIC])\n",
    "        \n",
    "        if len(found_objects) > 0:\n",
    "            for found_object in found_objects:\n",
    "                if (found_object['type']==3 and found_object['subtype']== 768): #Report-Grid\n",
    "                    found_object_type = 'Report'\n",
    "                elif (found_object['type']==3 and found_object['subtype']== 769): #Report-Graph                \n",
    "                    found_object_type = 'Report'\n",
    "                elif (found_object['type']==3 and found_object['subtype']== 774): #Report Grid-Graph                \n",
    "                    found_object_type = 'Report'\n",
    "                elif (found_object['type']==3 and found_object['subtype']== 775): #Bulk-Report                \n",
    "                    found_object_type = 'Bulk-Report'\n",
    "                elif (found_object['type']==3 and found_object['subtype']== 776): #OLAP-Cube               \n",
    "                    found_object_type = 'OLAP-Cube'\n",
    "                elif (found_object['type']==4 and found_object['subtype']== 1024): #Real Metric              \n",
    "                    found_object_type = 'Metric'\n",
    "                elif (found_object['type']==55 and found_object['subtype']== 14081): #Document/Dossier              \n",
    "                    found_object_type = 'Document/Dossier'\n",
    "\n",
    "                if found_object_type != '':\n",
    "                    list_source_object_type.append('Attribute')\n",
    "                    list_source_object_name.append(attribute_object['name'])\n",
    "                    list_source_object_id.append(attribute_object['id'])\n",
    "                    list_dependent_object_type.append(found_object_type)\n",
    "                    list_dependent_object_name.append(found_object['name'])\n",
    "                    list_dependent_object_id.append(found_object['id'])\n",
    "                    found_object_type = ''\n",
    "\n",
    "        else:    \n",
    "            list_source_object_type.append('Attribute')\n",
    "            list_source_object_name.append(attribute_object['name'])\n",
    "            list_source_object_id.append(attribute_object['id'])\n",
    "            list_dependent_object_name.append('n.a.')\n",
    "            list_dependent_object_type.append('n.a.')\n",
    "            list_dependent_object_id.append('n.a.')\n",
    "\n",
    "print('All Attributes read in')            "
   ]
  },
  {
   "attachments": {},
   "cell_type": "markdown",
   "metadata": {},
   "source": [
    "Create Dataframe from Lists"
   ]
  },
  {
   "cell_type": "code",
   "execution_count": null,
   "metadata": {},
   "outputs": [],
   "source": [
    "Objects_Scanned_DF = pd.DataFrame(list(zip(list_source_object_type, list_source_object_name, list_source_object_id, list_dependent_object_type, list_dependent_object_name, list_dependent_object_id)),\n",
    "                                 columns=['Source Object Type', 'Source Object Name', 'Source Object ID', 'Dependent Object Type', 'Dependent Object Name', 'Dependent Object ID'])"
   ]
  },
  {
   "attachments": {},
   "cell_type": "markdown",
   "metadata": {},
   "source": [
    "Write CSV File"
   ]
  },
  {
   "cell_type": "code",
   "execution_count": null,
   "metadata": {},
   "outputs": [],
   "source": [
    "Objects_Scanned_DF.to_csv('C:/Micha/MSTR/MicroStrategyPython/DataExport/mstr_objects_scanned.csv', sep=';')"
   ]
  },
  {
   "attachments": {},
   "cell_type": "markdown",
   "metadata": {},
   "source": [
    "Close Connections"
   ]
  },
  {
   "cell_type": "code",
   "execution_count": null,
   "metadata": {},
   "outputs": [],
   "source": [
    "mstr_conn.close()"
   ]
  }
 ],
 "metadata": {
  "kernelspec": {
   "display_name": "Python 3",
   "language": "python",
   "name": "python3"
  },
  "language_info": {
   "codemirror_mode": {
    "name": "ipython",
    "version": 3
   },
   "file_extension": ".py",
   "mimetype": "text/x-python",
   "name": "python",
   "nbconvert_exporter": "python",
   "pygments_lexer": "ipython3",
   "version": "3.10.9"
  },
  "orig_nbformat": 4,
  "vscode": {
   "interpreter": {
    "hash": "26de051ba29f2982a8de78e945f0abaf191376122a1563185a90213a26c5da77"
   }
  }
 },
 "nbformat": 4,
 "nbformat_minor": 2
}
