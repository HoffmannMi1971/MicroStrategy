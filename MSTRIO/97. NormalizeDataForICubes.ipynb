{
 "cells": [
  {
   "attachments": {},
   "cell_type": "markdown",
   "metadata": {},
   "source": [
    "Import Packages and Data"
   ]
  },
  {
   "cell_type": "code",
   "execution_count": null,
   "metadata": {},
   "outputs": [],
   "source": [
    "import pandas as pd\n",
    "from MicroStrategyConnection import *\n",
    "from mstrio.project_objects import SuperCube\n",
    "\n",
    "CSV_Folder_Path = 'C:/Micha/MSTR/MicroStrategyPython/DataExport/'\n",
    "#df_Import_Table = pd.read_csv(CSV_Folder_Path + 'test_retail_data_including_ids.csv', sep=';', nrows=1000)\n",
    "df_Import_Table = pd.read_csv(CSV_Folder_Path + 'test_retail_data_including_ids.csv', sep=';')"
   ]
  },
  {
   "attachments": {},
   "cell_type": "markdown",
   "metadata": {},
   "source": [
    "Prep data for our scenario: drop old ID columns"
   ]
  },
  {
   "cell_type": "code",
   "execution_count": null,
   "metadata": {},
   "outputs": [],
   "source": [
    "columns_to_drop = ['Call Center ID', 'Category ID', 'Customer ID', 'Item ID', 'Supplier ID', 'Category ID', 'Month ID', 'Region ID', 'Subcategory ID']\n",
    "df_Master_Table = df_Import_Table.drop(columns = columns_to_drop)"
   ]
  },
  {
   "attachments": {},
   "cell_type": "markdown",
   "metadata": {},
   "source": [
    "Create Lookup Table and create ID Columns in Lookup Table"
   ]
  },
  {
   "cell_type": "code",
   "execution_count": null,
   "metadata": {},
   "outputs": [],
   "source": [
    "df_LU_Customer = df_Master_Table[['Customer', 'Customer Age']].drop_duplicates()\n",
    "df_LU_Customer.reset_index(drop=True, inplace=True)\n",
    "df_LU_Customer.insert(0, 'Customer ID', range(1, 1 + len(df_LU_Customer)))\n",
    "\n",
    "#We want only the \"old\" column to join with lookup table in our master table\n",
    "df_Master_Table.drop(columns=['Customer Age'], inplace=True)"
   ]
  },
  {
   "attachments": {},
   "cell_type": "markdown",
   "metadata": {},
   "source": [
    "Create new Main Table by joining via old column with new Lookup Table. Leave new ID Column and drop all DESC columns that are available in Lookup Table"
   ]
  },
  {
   "cell_type": "code",
   "execution_count": null,
   "metadata": {},
   "outputs": [],
   "source": [
    "df_Master_Table = df_Master_Table.join(df_LU_Customer.set_index('Customer'), on='Customer')\n",
    "df_Master_Table.drop(columns=['Customer', 'Customer Age'], inplace=True)"
   ]
  },
  {
   "attachments": {},
   "cell_type": "markdown",
   "metadata": {},
   "source": [
    "Write iCube and configure Attribute Columns"
   ]
  },
  {
   "cell_type": "code",
   "execution_count": null,
   "metadata": {},
   "outputs": [],
   "source": [
    "mstr_conn = GetMicroStrategyConnection()\n",
    "iCube = SuperCube(connection=mstr_conn, name='_iCube_Test_STAR_Schema_Transformation')\n",
    "iCube.add_table(name='master_table', data_frame=df_Master_Table, update_policy='replace', to_attribute=['Customer ID', 'Month Number'])\n",
    "iCube.add_table(name='lu_customer', data_frame=df_LU_Customer, update_policy='replace', to_attribute=['Customer ID', 'Customer Age'])\n",
    "iCube.create()\n",
    "mstr_conn.close()"
   ]
  }
 ],
 "metadata": {
  "kernelspec": {
   "display_name": "Python 3",
   "language": "python",
   "name": "python3"
  },
  "language_info": {
   "codemirror_mode": {
    "name": "ipython",
    "version": 3
   },
   "file_extension": ".py",
   "mimetype": "text/x-python",
   "name": "python",
   "nbconvert_exporter": "python",
   "pygments_lexer": "ipython3",
   "version": "3.10.9"
  },
  "orig_nbformat": 4,
  "vscode": {
   "interpreter": {
    "hash": "26de051ba29f2982a8de78e945f0abaf191376122a1563185a90213a26c5da77"
   }
  }
 },
 "nbformat": 4,
 "nbformat_minor": 2
}
