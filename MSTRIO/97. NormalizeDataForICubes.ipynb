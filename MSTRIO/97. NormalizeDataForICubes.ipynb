{
 "cells": [
  {
   "cell_type": "code",
   "execution_count": null,
   "metadata": {},
   "outputs": [],
   "source": [
    "import pandas as pd\n",
    "from MicroStrategyConnection import *\n",
    "from mstrio.project_objects import SuperCube\n",
    "\n",
    "CSV_Folder_Path = 'C:/Micha/MSTR/MicroStrategyPython/DataExport/Star Schema Data Transformation/'\n",
    "master_table_name = 'data'\n",
    "new_master_table_ids = []\n",
    "iCube_name = '_iCube_STAR_Schema_Transformation_from_CSV_File'\n",
    "\n",
    "mstr_conn = GetMicroStrategyConnection()\n",
    "iCube = SuperCube(connection=mstr_conn, name=iCube_name)\n",
    "#df_Master_Table = pd.read_csv(CSV_Folder_Path + 'denormalized_retail_data.csv', sep=';', nrows=1000)\n",
    "df_Master_Table = pd.read_csv(CSV_Folder_Path + 'denormalized_retail_data.csv', sep=';')"
   ]
  },
  {
   "attachments": {},
   "cell_type": "markdown",
   "metadata": {},
   "source": [
    "Main Function that extracts data from master table und creates lookup table for one attribute including more than one columns + create CSV File for lookup table"
   ]
  },
  {
   "cell_type": "code",
   "execution_count": null,
   "metadata": {},
   "outputs": [],
   "source": [
    "def CreateLookupTableUpdateMasterTableWriteLookupTable(lookup_columns_old, lookup_columns_new, lookup_column_id,\n",
    "                                          lookup_columns_numeric_attributes, lookup_table_name):\n",
    "    \n",
    "    global df_Master_Table\n",
    "    global iCube\n",
    "    \n",
    "    df_LU_Table = df_Master_Table[lookup_columns_old].drop_duplicates()\n",
    "    df_LU_Table.reset_index(drop=True, inplace=True)\n",
    "    df_LU_Table.insert(0, lookup_column_id, range(1, 1 + len(df_LU_Table)))\n",
    "\n",
    "    #We need to drop any secondary lookup columns in master table before join with new lookup table\n",
    "    #First value in lookup_columns_old is the join column. Don't drop this column\n",
    "    n=1\n",
    "    while n < len(lookup_columns_old):\n",
    "        df_Master_Table.drop(columns=[lookup_columns_old[n]], inplace=True)\n",
    "        n = n + 1       \n",
    "\n",
    "    df_Master_Table = df_Master_Table.join(df_LU_Table.set_index(lookup_columns_old[0]), on=lookup_columns_old[0])\n",
    "    df_Master_Table.drop(columns=lookup_columns_old, inplace=True)\n",
    "\n",
    "    df_Master_Table = df_Master_Table.rename(columns={lookup_columns_old[0]: lookup_columns_new[0]})\n",
    "\n",
    "    n=0\n",
    "    while n < len(lookup_columns_old):\n",
    "        df_LU_Table = df_LU_Table.rename(columns={lookup_columns_old[n]: lookup_columns_new[n]})\n",
    "        n = n + 1\n",
    "\n",
    "    iCube.add_table(name=lookup_table_name, data_frame=df_LU_Table, update_policy='replace', to_attribute=lookup_columns_numeric_attributes)\n",
    "    df_LU_Table.to_csv(CSV_Folder_Path + lookup_table_name + '.csv', sep=';', index=False)"
   ]
  },
  {
   "attachments": {},
   "cell_type": "markdown",
   "metadata": {},
   "source": [
    "Now configure each Columns Set Transformation and run the Main Function"
   ]
  },
  {
   "cell_type": "code",
   "execution_count": null,
   "metadata": {},
   "outputs": [],
   "source": [
    "lookup_columns_old = ['Call Center']\n",
    "lookup_columns_new = ['callcenter']\n",
    "lookup_column_id = 'callcenter_id'\n",
    "new_master_table_ids.append(lookup_column_id)\n",
    "lookup_columns_numeric_attributes = ['callcenter_id']\n",
    "lookup_table_name = 'lu_callcenter'\n",
    "\n",
    "CreateLookupTableUpdateMasterTableWriteLookupTable(lookup_columns_old, lookup_columns_new, lookup_column_id, lookup_columns_numeric_attributes, lookup_table_name)"
   ]
  },
  {
   "cell_type": "code",
   "execution_count": null,
   "metadata": {},
   "outputs": [],
   "source": [
    "lookup_columns_old = ['Category']\n",
    "lookup_columns_new = ['category']\n",
    "lookup_column_id = 'category_id'\n",
    "new_master_table_ids.append(lookup_column_id)\n",
    "lookup_columns_numeric_attributes = ['category_id']\n",
    "lookup_table_name = 'lu_category'\n",
    "\n",
    "CreateLookupTableUpdateMasterTableWriteLookupTable(lookup_columns_old, lookup_columns_new, lookup_column_id, lookup_columns_numeric_attributes, lookup_table_name)"
   ]
  },
  {
   "cell_type": "code",
   "execution_count": null,
   "metadata": {},
   "outputs": [],
   "source": [
    "lookup_columns_old = ['Customer', 'Customer Age'] #The first column is the join column to create foreign key in master table\n",
    "lookup_columns_new = ['customer', 'customer_age']\n",
    "lookup_column_id = 'customer_id'\n",
    "new_master_table_ids.append(lookup_column_id)\n",
    "lookup_columns_numeric_attributes = ['customer_id', 'customer_age']\n",
    "lookup_table_name = 'lu_customer'\n",
    "\n",
    "CreateLookupTableUpdateMasterTableWriteLookupTable(lookup_columns_old, lookup_columns_new, lookup_column_id, lookup_columns_numeric_attributes, lookup_table_name)"
   ]
  },
  {
   "cell_type": "code",
   "execution_count": null,
   "metadata": {},
   "outputs": [],
   "source": [
    "lookup_columns_old = ['Month', 'Month Number', 'Month Short Name'] #The first column is the join column to create foreign key in master table\n",
    "lookup_columns_new = ['month', 'month_number', 'month_short_name']\n",
    "lookup_column_id = 'month_id'\n",
    "new_master_table_ids.append(lookup_column_id)\n",
    "lookup_columns_numeric_attributes = ['month_id', 'month_number']\n",
    "lookup_table_name = 'lu_month'\n",
    "\n",
    "CreateLookupTableUpdateMasterTableWriteLookupTable(lookup_columns_old, lookup_columns_new, lookup_column_id, lookup_columns_numeric_attributes, lookup_table_name)"
   ]
  },
  {
   "cell_type": "code",
   "execution_count": null,
   "metadata": {},
   "outputs": [],
   "source": [
    "lookup_columns_old = ['Item']\n",
    "lookup_columns_new = ['item']\n",
    "lookup_column_id = 'item_id'\n",
    "new_master_table_ids.append(lookup_column_id)\n",
    "lookup_columns_numeric_attributes = ['item_id']\n",
    "lookup_table_name = 'lu_item'\n",
    "\n",
    "CreateLookupTableUpdateMasterTableWriteLookupTable(lookup_columns_old, lookup_columns_new, lookup_column_id, lookup_columns_numeric_attributes, lookup_table_name)"
   ]
  },
  {
   "cell_type": "code",
   "execution_count": null,
   "metadata": {},
   "outputs": [],
   "source": [
    "lookup_columns_old = ['Region']\n",
    "lookup_columns_new = ['region']\n",
    "lookup_column_id = 'region_id'\n",
    "new_master_table_ids.append(lookup_column_id)\n",
    "lookup_columns_numeric_attributes = ['region_id']\n",
    "lookup_table_name = 'lu_region'\n",
    "\n",
    "CreateLookupTableUpdateMasterTableWriteLookupTable(lookup_columns_old, lookup_columns_new, lookup_column_id, lookup_columns_numeric_attributes, lookup_table_name)"
   ]
  },
  {
   "cell_type": "code",
   "execution_count": null,
   "metadata": {},
   "outputs": [],
   "source": [
    "lookup_columns_old = ['Subcategory']\n",
    "lookup_columns_new = ['subcategory']\n",
    "lookup_column_id = 'subcategory_id'\n",
    "new_master_table_ids.append(lookup_column_id)\n",
    "lookup_columns_numeric_attributes = ['subcategory_id']\n",
    "lookup_table_name = 'lu_subcategory'\n",
    "\n",
    "CreateLookupTableUpdateMasterTableWriteLookupTable(lookup_columns_old, lookup_columns_new, lookup_column_id, lookup_columns_numeric_attributes, lookup_table_name)"
   ]
  },
  {
   "cell_type": "code",
   "execution_count": null,
   "metadata": {},
   "outputs": [],
   "source": [
    "lookup_columns_old = ['Supplier']\n",
    "lookup_columns_new = ['supplier']\n",
    "lookup_column_id = 'supplier_id'\n",
    "new_master_table_ids.append(lookup_column_id)\n",
    "lookup_columns_numeric_attributes = ['supplier_id']\n",
    "lookup_table_name = 'lu_supplier'\n",
    "\n",
    "CreateLookupTableUpdateMasterTableWriteLookupTable(lookup_columns_old, lookup_columns_new, lookup_column_id, lookup_columns_numeric_attributes, lookup_table_name)"
   ]
  },
  {
   "attachments": {},
   "cell_type": "markdown",
   "metadata": {},
   "source": [
    "Tell the iCube about unchanged numberic columns in master table that need to be configured as attributes not metrics"
   ]
  },
  {
   "cell_type": "code",
   "execution_count": null,
   "metadata": {},
   "outputs": [],
   "source": [
    "#Add numberic unchanged columns that need to be Attributes in iCube not Metrics\n",
    "new_master_table_ids.append('Year')"
   ]
  },
  {
   "attachments": {},
   "cell_type": "markdown",
   "metadata": {},
   "source": [
    "Add Master Table to iCube und run the Cube Generation + Write Master Table CSV File too"
   ]
  },
  {
   "cell_type": "code",
   "execution_count": null,
   "metadata": {},
   "outputs": [],
   "source": [
    "iCube.add_table(name=master_table_name, data_frame=df_Master_Table, update_policy='replace', to_attribute=new_master_table_ids)\n",
    "df_Master_Table.to_csv(CSV_Folder_Path + master_table_name + '.csv', sep=';', index=False)\n",
    "iCube.create()\n",
    "mstr_conn.close()"
   ]
  }
 ],
 "metadata": {
  "kernelspec": {
   "display_name": "Python 3",
   "language": "python",
   "name": "python3"
  },
  "language_info": {
   "codemirror_mode": {
    "name": "ipython",
    "version": 3
   },
   "file_extension": ".py",
   "mimetype": "text/x-python",
   "name": "python",
   "nbconvert_exporter": "python",
   "pygments_lexer": "ipython3",
   "version": "3.10.9"
  },
  "orig_nbformat": 4,
  "vscode": {
   "interpreter": {
    "hash": "26de051ba29f2982a8de78e945f0abaf191376122a1563185a90213a26c5da77"
   }
  }
 },
 "nbformat": 4,
 "nbformat_minor": 2
}
